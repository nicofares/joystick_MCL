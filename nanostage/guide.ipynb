{
 "cells": [
  {
   "cell_type": "markdown",
   "id": "32af82b7-efd5-4792-afa5-f6cc11c2dd3d",
   "metadata": {},
   "source": [
    "# Start"
   ]
  },
  {
   "cell_type": "code",
   "execution_count": null,
   "id": "95ec1700-2299-418e-8338-0da4eedddda0",
   "metadata": {},
   "outputs": [],
   "source": [
    "# The microstage does displacements.\n",
    "\n",
    "# The nanostage goes to a given absolute position. "
   ]
  },
  {
   "cell_type": "markdown",
   "id": "326ab044-0eda-4bb3-8ae1-0b646ea25b02",
   "metadata": {},
   "source": [
    "## Importations"
   ]
  },
  {
   "cell_type": "code",
   "execution_count": null,
   "id": "274599dd-03e8-4511-8e94-d2d760540725",
   "metadata": {},
   "outputs": [],
   "source": [
    "# Have the two .so files in the folder \n",
    "\n",
    "# Environment = joystick\n",
    "\n",
    "import microdrive as md # Platine micro\n",
    "\n",
    "import nanostage as ns # Platine nano"
   ]
  },
  {
   "cell_type": "markdown",
   "id": "2cc26186-9622-4d8b-83c5-904263e736bc",
   "metadata": {},
   "source": [
    "## Deal With Handles"
   ]
  },
  {
   "cell_type": "code",
   "execution_count": 1,
   "id": "afde5129-fe82-49e5-881d-025db5e162f9",
   "metadata": {},
   "outputs": [],
   "source": [
    "# Must be done once, only once"
   ]
  },
  {
   "cell_type": "code",
   "execution_count": null,
   "id": "57fd62ea-a063-4b9c-a3b1-f90b07c50405",
   "metadata": {},
   "outputs": [],
   "source": [
    "# Connect to the stages (i.e. grab handles)\n",
    "\n",
    "md_handle = md.MCL_MD_InitHandle() # micro\n",
    "\n",
    "ns_handle = ns.MCL_InitHandle() # nano"
   ]
  },
  {
   "cell_type": "code",
   "execution_count": null,
   "id": "87dea238-16e2-4995-a0c4-ac0c41c0d5c7",
   "metadata": {},
   "outputs": [],
   "source": [
    "# At the end of your code, release handles \n",
    "\n",
    "md.MCL_MD_ReleaseAllHandles() # micro\n",
    "# Or \n",
    "md.MCL_MD_ReleaseHandle(md_handle)\n",
    "\n",
    "ns.MCL_ReleaseAllHandles() # nano"
   ]
  },
  {
   "cell_type": "markdown",
   "id": "e9c1572d-0648-479b-bd50-d56db4fa755d",
   "metadata": {},
   "source": [
    "# Useful Functions: Microdrive"
   ]
  },
  {
   "cell_type": "code",
   "execution_count": null,
   "id": "08738ad3-041c-45da-959c-6a3af1c986ba",
   "metadata": {},
   "outputs": [],
   "source": [
    "# Care should be taken about the time required for the stage to move. \n",
    "# E.g.: the function to read the position of the stage won't work if the stage is still moving.\n",
    "# The microdrive has a function for that: md.MCL_MD_MicroDriveWait(md_handle)"
   ]
  },
  {
   "cell_type": "code",
   "execution_count": null,
   "id": "1cf3454e-5962-4bab-b880-a885dac96acc",
   "metadata": {},
   "outputs": [],
   "source": [
    "# Move in a direction defined by axis, at the velocity velo \n",
    "axis = 1 # 1 = x, 2 = y, 3 = z\n",
    "velo = 1 # mm/s\n",
    "disp = 1 # mm\n",
    "# Move\n",
    "md.MCL_MD_Move(axis, velo, -disp, md_handle) # Negative value goes up if z"
   ]
  },
  {
   "cell_type": "code",
   "execution_count": null,
   "id": "25008805-d0ea-4c66-b689-ad166dc16244",
   "metadata": {},
   "outputs": [],
   "source": [
    "# Issues can be creating with the rounding of distances compared to the size of one microsteps\n",
    "# To ensure that there is no problem of hysteresis, better to control displacements in microsteps\n",
    "# This is done with the function md.MCL_MD_MoveM()\n",
    "# One microstep is 95.25 nm\n",
    "# Ranges of motion: x, y = 25 mm, z = 50 mm"
   ]
  },
  {
   "cell_type": "code",
   "execution_count": null,
   "id": "40ba950e-cb2d-49e7-99b5-3f22f9bc4ece",
   "metadata": {},
   "outputs": [],
   "source": [
    "# Move in a direction defined by axis, at the velocity velo \n",
    "axis = 1 # 1 = x, 2 = y, 3 = z\n",
    "velo = 1 # mm/s\n",
    "dispM = 1 # microstep\n",
    "# Move\n",
    "md.MCL_MD_MoveM(axis, velo, -dispM, md_handle) "
   ]
  },
  {
   "cell_type": "code",
   "execution_count": null,
   "id": "0506a619-6c55-4b27-bb8b-735c3ee215c3",
   "metadata": {},
   "outputs": [],
   "source": [
    "# To know the position of the stage, in nb of microsteps\n",
    "md.MCL_MD_CurrentPositionM(axis, md_handle)\n",
    "# Same function without M for the position in um"
   ]
  },
  {
   "cell_type": "code",
   "execution_count": null,
   "id": "657de110-32a2-4039-b196-9c6ab8cc9c4b",
   "metadata": {},
   "outputs": [],
   "source": [
    "# Be careful \n",
    "# The above function does not work if the stage if still moving \n",
    "# The microstage has a built-in wait function:\n",
    "md.MCL_MD_MicroDriveWait(md_handle)\n",
    "\n",
    "# So a good wait to specify displacements: \n",
    "md.MCL_MD_MoveM(axis, velo, -dispM, md_handle) \n",
    "md.MCL_MD_MicroDriveWait(md_handle)"
   ]
  },
  {
   "cell_type": "code",
   "execution_count": null,
   "id": "66be814a-0237-42a5-ae99-c4ff6b50a6de",
   "metadata": {},
   "outputs": [],
   "source": [
    "# It is possible to move all the axes at the same time:\n",
    "md.MCL_MD_MoveThreeAxesM(\n",
    "    axis1, velocity1, microSteps1,\n",
    "    axis2, velocity2, microSteps2,\n",
    "    axis3, velocity3, microSteps3,\n",
    "    md_handle\n",
    ")"
   ]
  },
  {
   "cell_type": "markdown",
   "id": "05deae8e-2c35-4e6b-8d5d-fd28ef610856",
   "metadata": {},
   "source": [
    "# Useful Functions: Nanostage"
   ]
  },
  {
   "cell_type": "code",
   "execution_count": null,
   "id": "8ad38c0e-5750-4ea9-a6dd-e22e4b792248",
   "metadata": {},
   "outputs": [],
   "source": [
    "# The nanostage is monitored in absolute position."
   ]
  },
  {
   "cell_type": "code",
   "execution_count": null,
   "id": "646d2094-b909-4c11-bf75-c469eb655a9c",
   "metadata": {},
   "outputs": [],
   "source": [
    "# Move to a given position\n",
    "axis = 1\n",
    "position = 0\n",
    "ns.MCL_SingleWriteN(position, axis, ns_handle)\n",
    "\n",
    "# Move in the z direction \n",
    "ns.MCL_SingleWriteZ(position, ns_handle)"
   ]
  },
  {
   "cell_type": "code",
   "execution_count": null,
   "id": "a68404a8-9f62-4d8f-b674-ad89c5acdfe8",
   "metadata": {},
   "outputs": [],
   "source": [
    "# Read the current position \n",
    "ns.MCL_SingleReadN(axis, ns_handle)\n",
    "\n",
    "# Read the z position \n",
    "ns.MCL_SingleReadZ(ns_handle)"
   ]
  },
  {
   "cell_type": "code",
   "execution_count": null,
   "id": "d86fae25-3876-4978-9f6a-d8fcdb6987b6",
   "metadata": {},
   "outputs": [],
   "source": [
    "# The nanostage does not have a wait function \n",
    "# So use time.sleep()\n",
    "\n",
    "import time \n",
    "\n",
    "# Good way \n",
    "ns.MCL_SingleWriteN(axis, ns_handle)\n",
    "time.sleep(0.1)"
   ]
  },
  {
   "cell_type": "code",
   "execution_count": null,
   "id": "16550268-b350-4d01-83ed-d03c6ba78178",
   "metadata": {},
   "outputs": [],
   "source": [
    "# The range of an axis is accessed with: \n",
    "ns.MCL_GetCalibration(axis, ns_handle)\n",
    "\n",
    "# A good practice can be to go to the middle range\n",
    "ns.MCL_SingleWriteN(ns.MCL_GetCalibration(axis, ns_handle)//2, axis, ns_handle)\n",
    "\n",
    "# Ranges are 200 um in each directions"
   ]
  },
  {
   "cell_type": "code",
   "execution_count": null,
   "id": "1d3b213d-3ac0-4299-90fb-31fe1e3ccff7",
   "metadata": {},
   "outputs": [],
   "source": []
  }
 ],
 "metadata": {
  "kernelspec": {
   "display_name": "Python 3 (ipykernel)",
   "language": "python",
   "name": "python3"
  },
  "language_info": {
   "codemirror_mode": {
    "name": "ipython",
    "version": 3
   },
   "file_extension": ".py",
   "mimetype": "text/x-python",
   "name": "python",
   "nbconvert_exporter": "python",
   "pygments_lexer": "ipython3",
   "version": "3.12.4"
  }
 },
 "nbformat": 4,
 "nbformat_minor": 5
}
